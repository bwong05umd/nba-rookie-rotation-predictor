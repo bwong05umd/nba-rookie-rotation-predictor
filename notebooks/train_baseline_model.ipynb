{
 "cells": [
  {
   "cell_type": "code",
   "execution_count": 1,
   "id": "5e9dd0ac-3f98-4b5d-a463-bd7a913ac1b7",
   "metadata": {},
   "outputs": [
    {
     "name": "stdout",
     "output_type": "stream",
     "text": [
      "Shape: (700, 16)\n"
     ]
    },
    {
     "data": {
      "text/html": [
       "<div>\n",
       "<style scoped>\n",
       "    .dataframe tbody tr th:only-of-type {\n",
       "        vertical-align: middle;\n",
       "    }\n",
       "\n",
       "    .dataframe tbody tr th {\n",
       "        vertical-align: top;\n",
       "    }\n",
       "\n",
       "    .dataframe thead th {\n",
       "        text-align: right;\n",
       "    }\n",
       "</style>\n",
       "<table border=\"1\" class=\"dataframe\">\n",
       "  <thead>\n",
       "    <tr style=\"text-align: right;\">\n",
       "      <th></th>\n",
       "      <th>Player</th>\n",
       "      <th>Year</th>\n",
       "      <th>MP</th>\n",
       "      <th>G</th>\n",
       "      <th>MPG</th>\n",
       "      <th>Pos</th>\n",
       "      <th>Age</th>\n",
       "      <th>Tm</th>\n",
       "      <th>PER</th>\n",
       "      <th>USG%</th>\n",
       "      <th>VORP</th>\n",
       "      <th>BPM</th>\n",
       "      <th>PTS</th>\n",
       "      <th>AST</th>\n",
       "      <th>TRB</th>\n",
       "      <th>is_rotation_player</th>\n",
       "    </tr>\n",
       "  </thead>\n",
       "  <tbody>\n",
       "    <tr>\n",
       "      <th>0</th>\n",
       "      <td>David Andersen</td>\n",
       "      <td>2010.0</td>\n",
       "      <td>891.0</td>\n",
       "      <td>63.0</td>\n",
       "      <td>14.142857</td>\n",
       "      <td>C</td>\n",
       "      <td>29.0</td>\n",
       "      <td>HOU</td>\n",
       "      <td>12.1</td>\n",
       "      <td>20.2</td>\n",
       "      <td>-0.4</td>\n",
       "      <td>-3.8</td>\n",
       "      <td>367.0</td>\n",
       "      <td>44.0</td>\n",
       "      <td>208.0</td>\n",
       "      <td>0</td>\n",
       "    </tr>\n",
       "    <tr>\n",
       "      <th>1</th>\n",
       "      <td>Antonio Anderson</td>\n",
       "      <td>2010.0</td>\n",
       "      <td>15.0</td>\n",
       "      <td>1.0</td>\n",
       "      <td>15.000000</td>\n",
       "      <td>SF</td>\n",
       "      <td>24.0</td>\n",
       "      <td>OKC</td>\n",
       "      <td>-1.7</td>\n",
       "      <td>12.0</td>\n",
       "      <td>0.0</td>\n",
       "      <td>-11.4</td>\n",
       "      <td>2.0</td>\n",
       "      <td>0.0</td>\n",
       "      <td>1.0</td>\n",
       "      <td>1</td>\n",
       "    </tr>\n",
       "    <tr>\n",
       "      <th>2</th>\n",
       "      <td>Jeff Ayres</td>\n",
       "      <td>2010.0</td>\n",
       "      <td>405.0</td>\n",
       "      <td>39.0</td>\n",
       "      <td>10.384615</td>\n",
       "      <td>C</td>\n",
       "      <td>22.0</td>\n",
       "      <td>POR</td>\n",
       "      <td>12.1</td>\n",
       "      <td>10.1</td>\n",
       "      <td>-0.1</td>\n",
       "      <td>-2.9</td>\n",
       "      <td>104.0</td>\n",
       "      <td>1.0</td>\n",
       "      <td>98.0</td>\n",
       "      <td>0</td>\n",
       "    </tr>\n",
       "    <tr>\n",
       "      <th>3</th>\n",
       "      <td>Rodrigue Beaubois</td>\n",
       "      <td>2010.0</td>\n",
       "      <td>700.0</td>\n",
       "      <td>56.0</td>\n",
       "      <td>12.500000</td>\n",
       "      <td>PG</td>\n",
       "      <td>21.0</td>\n",
       "      <td>DAL</td>\n",
       "      <td>18.5</td>\n",
       "      <td>24.7</td>\n",
       "      <td>0.6</td>\n",
       "      <td>1.3</td>\n",
       "      <td>397.0</td>\n",
       "      <td>74.0</td>\n",
       "      <td>78.0</td>\n",
       "      <td>1</td>\n",
       "    </tr>\n",
       "    <tr>\n",
       "      <th>4</th>\n",
       "      <td>DeJuan Blair</td>\n",
       "      <td>2010.0</td>\n",
       "      <td>1494.0</td>\n",
       "      <td>82.0</td>\n",
       "      <td>18.219512</td>\n",
       "      <td>PF</td>\n",
       "      <td>20.0</td>\n",
       "      <td>SAS</td>\n",
       "      <td>17.7</td>\n",
       "      <td>20.8</td>\n",
       "      <td>1.0</td>\n",
       "      <td>0.7</td>\n",
       "      <td>638.0</td>\n",
       "      <td>65.0</td>\n",
       "      <td>526.0</td>\n",
       "      <td>1</td>\n",
       "    </tr>\n",
       "  </tbody>\n",
       "</table>\n",
       "</div>"
      ],
      "text/plain": [
       "              Player    Year      MP     G        MPG Pos   Age   Tm   PER  \\\n",
       "0     David Andersen  2010.0   891.0  63.0  14.142857   C  29.0  HOU  12.1   \n",
       "1   Antonio Anderson  2010.0    15.0   1.0  15.000000  SF  24.0  OKC  -1.7   \n",
       "2         Jeff Ayres  2010.0   405.0  39.0  10.384615   C  22.0  POR  12.1   \n",
       "3  Rodrigue Beaubois  2010.0   700.0  56.0  12.500000  PG  21.0  DAL  18.5   \n",
       "4       DeJuan Blair  2010.0  1494.0  82.0  18.219512  PF  20.0  SAS  17.7   \n",
       "\n",
       "   USG%  VORP   BPM    PTS   AST    TRB  is_rotation_player  \n",
       "0  20.2  -0.4  -3.8  367.0  44.0  208.0                   0  \n",
       "1  12.0   0.0 -11.4    2.0   0.0    1.0                   1  \n",
       "2  10.1  -0.1  -2.9  104.0   1.0   98.0                   0  \n",
       "3  24.7   0.6   1.3  397.0  74.0   78.0                   1  \n",
       "4  20.8   1.0   0.7  638.0  65.0  526.0                   1  "
      ]
     },
     "execution_count": 1,
     "metadata": {},
     "output_type": "execute_result"
    }
   ],
   "source": [
    "import pandas as pd\n",
    "\n",
    "# Load the labeled rookie dataset\n",
    "df = pd.read_csv(\"../data/processed/labeled_rookie_data.csv\")\n",
    "print(\"Shape:\", df.shape)\n",
    "df.head()"
   ]
  },
  {
   "cell_type": "code",
   "execution_count": 3,
   "id": "146b3800-8ddb-4055-8f12-522443adaf3b",
   "metadata": {},
   "outputs": [
    {
     "name": "stdout",
     "output_type": "stream",
     "text": [
      "Features and target prepared.\n"
     ]
    }
   ],
   "source": [
    "# Features we'll use to train the model\n",
    "feature_cols = ['PTS', 'AST', 'TRB', 'VORP', 'BPM', 'PER', 'USG%']\n",
    "\n",
    "# Drop rows with missing values in these columns\n",
    "df = df.dropna(subset=feature_cols + ['is_rotation_player'])\n",
    "\n",
    "# Feature matrix (X) and label (y)\n",
    "X = df[feature_cols]\n",
    "y = df['is_rotation_player']\n",
    "\n",
    "print(\"Features and target prepared.\")"
   ]
  },
  {
   "cell_type": "code",
   "execution_count": 4,
   "id": "4486d354-1366-459e-a69e-0dbf4608cae7",
   "metadata": {},
   "outputs": [
    {
     "name": "stdout",
     "output_type": "stream",
     "text": [
      "Training set size: 559\n",
      "Test set size: 140\n"
     ]
    }
   ],
   "source": [
    "from sklearn.model_selection import train_test_split\n",
    "\n",
    "# 80% training, 20% testing\n",
    "X_train, X_test, y_train, y_test = train_test_split(\n",
    "    X, y, test_size=0.2, stratify=y, random_state=42\n",
    ")\n",
    "\n",
    "print(\"Training set size:\", X_train.shape[0])\n",
    "print(\"Test set size:\", X_test.shape[0])"
   ]
  },
  {
   "cell_type": "code",
   "execution_count": 5,
   "id": "b1a5f865-52c5-4558-b91f-5d26c4cb9cf1",
   "metadata": {},
   "outputs": [
    {
     "name": "stdout",
     "output_type": "stream",
     "text": [
      "Model trained.\n"
     ]
    }
   ],
   "source": [
    "from sklearn.linear_model import LogisticRegression\n",
    "\n",
    "# Train baseline model\n",
    "model = LogisticRegression(max_iter=1000)\n",
    "model.fit(X_train, y_train)\n",
    "\n",
    "print(\"Model trained.\")"
   ]
  },
  {
   "cell_type": "code",
   "execution_count": 6,
   "id": "bd68cc60-04a4-4def-8b2d-f7f66973ba5a",
   "metadata": {},
   "outputs": [
    {
     "name": "stdout",
     "output_type": "stream",
     "text": [
      "Evaluation Metrics:\n",
      "Accuracy: 0.7785714285714286\n",
      "Precision: 0.8026315789473685\n",
      "Recall: 0.7922077922077922\n",
      "Confusion Matrix:\n",
      " [[48 15]\n",
      " [16 61]]\n"
     ]
    }
   ],
   "source": [
    "from sklearn.metrics import accuracy_score, precision_score, recall_score, confusion_matrix\n",
    "\n",
    "# Predict on test set\n",
    "y_pred = model.predict(X_test)\n",
    "\n",
    "# Evaluate\n",
    "print(\"Evaluation Metrics:\")\n",
    "print(\"Accuracy:\", accuracy_score(y_test, y_pred))\n",
    "print(\"Precision:\", precision_score(y_test, y_pred))\n",
    "print(\"Recall:\", recall_score(y_test, y_pred))\n",
    "print(\"Confusion Matrix:\\n\", confusion_matrix(y_test, y_pred))\n"
   ]
  },
  {
   "cell_type": "code",
   "execution_count": 7,
   "id": "79070384-73fc-4a32-bec2-3ebd58d7d82b",
   "metadata": {},
   "outputs": [
    {
     "data": {
      "text/html": [
       "<div>\n",
       "<style scoped>\n",
       "    .dataframe tbody tr th:only-of-type {\n",
       "        vertical-align: middle;\n",
       "    }\n",
       "\n",
       "    .dataframe tbody tr th {\n",
       "        vertical-align: top;\n",
       "    }\n",
       "\n",
       "    .dataframe thead th {\n",
       "        text-align: right;\n",
       "    }\n",
       "</style>\n",
       "<table border=\"1\" class=\"dataframe\">\n",
       "  <thead>\n",
       "    <tr style=\"text-align: right;\">\n",
       "      <th></th>\n",
       "      <th>Feature</th>\n",
       "      <th>Weight</th>\n",
       "    </tr>\n",
       "  </thead>\n",
       "  <tbody>\n",
       "    <tr>\n",
       "      <th>4</th>\n",
       "      <td>BPM</td>\n",
       "      <td>0.116340</td>\n",
       "    </tr>\n",
       "    <tr>\n",
       "      <th>1</th>\n",
       "      <td>AST</td>\n",
       "      <td>0.014614</td>\n",
       "    </tr>\n",
       "    <tr>\n",
       "      <th>6</th>\n",
       "      <td>USG%</td>\n",
       "      <td>0.007175</td>\n",
       "    </tr>\n",
       "    <tr>\n",
       "      <th>2</th>\n",
       "      <td>TRB</td>\n",
       "      <td>0.006581</td>\n",
       "    </tr>\n",
       "    <tr>\n",
       "      <th>0</th>\n",
       "      <td>PTS</td>\n",
       "      <td>0.003561</td>\n",
       "    </tr>\n",
       "    <tr>\n",
       "      <th>3</th>\n",
       "      <td>VORP</td>\n",
       "      <td>-0.020740</td>\n",
       "    </tr>\n",
       "    <tr>\n",
       "      <th>5</th>\n",
       "      <td>PER</td>\n",
       "      <td>-0.046140</td>\n",
       "    </tr>\n",
       "  </tbody>\n",
       "</table>\n",
       "</div>"
      ],
      "text/plain": [
       "  Feature    Weight\n",
       "4     BPM  0.116340\n",
       "1     AST  0.014614\n",
       "6    USG%  0.007175\n",
       "2     TRB  0.006581\n",
       "0     PTS  0.003561\n",
       "3    VORP -0.020740\n",
       "5     PER -0.046140"
      ]
     },
     "execution_count": 7,
     "metadata": {},
     "output_type": "execute_result"
    }
   ],
   "source": [
    "# Show which features had the most impact\n",
    "feature_importance = pd.DataFrame({\n",
    "    'Feature': feature_cols,\n",
    "    'Weight': model.coef_[0]\n",
    "}).sort_values(by='Weight', ascending=False)\n",
    "\n",
    "feature_importance"
   ]
  },
  {
   "cell_type": "code",
   "execution_count": 9,
   "id": "61bbf86e-4542-4e7f-a19e-231df010b50d",
   "metadata": {},
   "outputs": [
    {
     "name": "stdout",
     "output_type": "stream",
     "text": [
      "Random Forest trained.\n"
     ]
    }
   ],
   "source": [
    "from sklearn.ensemble import RandomForestClassifier\n",
    "\n",
    "rf_model = RandomForestClassifier(n_estimators=100, random_state=42)\n",
    "rf_model.fit(X_train, y_train)\n",
    "\n",
    "y_rf_pred = rf_model.predict(X_test)\n",
    "print(\"Random Forest trained.\")"
   ]
  },
  {
   "cell_type": "code",
   "execution_count": 10,
   "id": "be3b985b-0ce0-46fc-bdcf-3f5243e508ed",
   "metadata": {},
   "outputs": [
    {
     "name": "stdout",
     "output_type": "stream",
     "text": [
      "Logistic Regression:\n",
      "              precision    recall  f1-score   support\n",
      "\n",
      "           0       0.75      0.76      0.76        63\n",
      "           1       0.80      0.79      0.80        77\n",
      "\n",
      "    accuracy                           0.78       140\n",
      "   macro avg       0.78      0.78      0.78       140\n",
      "weighted avg       0.78      0.78      0.78       140\n",
      "\n",
      "\n",
      " Random Forest:\n",
      "              precision    recall  f1-score   support\n",
      "\n",
      "           0       0.75      0.79      0.77        63\n",
      "           1       0.82      0.78      0.80        77\n",
      "\n",
      "    accuracy                           0.79       140\n",
      "   macro avg       0.78      0.79      0.78       140\n",
      "weighted avg       0.79      0.79      0.79       140\n",
      "\n"
     ]
    }
   ],
   "source": [
    "from sklearn.metrics import classification_report\n",
    "\n",
    "print(\"Logistic Regression:\")\n",
    "print(classification_report(y_test, y_pred))\n",
    "\n",
    "print(\"\\n Random Forest:\")\n",
    "print(classification_report(y_test, y_rf_pred))"
   ]
  },
  {
   "cell_type": "code",
   "execution_count": 11,
   "id": "a76cebcb-f25d-47a5-827e-818e49d1a528",
   "metadata": {},
   "outputs": [
    {
     "data": {
      "image/png": "[encoded data removed]",
      "text/plain": [
       "<Figure size 800x500 with 1 Axes>"
      ]
     },
     "metadata": {},
     "output_type": "display_data"
    }
   ],
   "source": [
    "import pandas as pd\n",
    "import matplotlib.pyplot as plt\n",
    "\n",
    "importance_df = pd.DataFrame({\n",
    "    'Feature': feature_cols,\n",
    "    'Importance': rf_model.feature_importances_\n",
    "}).sort_values(by='Importance', ascending=False)\n",
    "\n",
    "plt.figure(figsize=(8,5))\n",
    "plt.barh(importance_df['Feature'], importance_df['Importance'])\n",
    "plt.xlabel(\"Feature Importance\")\n",
    "plt.title(\"Random Forest Feature Importance\")\n",
    "plt.gca().invert_yaxis()\n",
    "plt.show()"
   ]
  },
  {
   "cell_type": "code",
   "execution_count": 12,
   "id": "c88f446f-cc0e-41a1-b760-37a92772ea9d",
   "metadata": {},
   "outputs": [
    {
     "name": "stdout",
     "output_type": "stream",
     "text": [
      "Model saved to: data/processed/final_model.joblib\n"
     ]
    }
   ],
   "source": [
    "import joblib\n",
    "\n",
    "joblib.dump(rf_model, \"../data/processed/final_model.joblib\")\n",
    "print(\"Model saved to: data/processed/final_model.joblib\")"
   ]
  },
  {
   "cell_type": "code",
   "execution_count": null,
   "id": "71555fb7-94a4-4f66-89f3-704f32f435d6",
   "metadata": {},
   "outputs": [],
   "source": []
  }
 ],
 "metadata": {
  "kernelspec": {
   "display_name": "Python 3 (ipykernel)",
   "language": "python",
   "name": "python3"
  },
  "language_info": {
   "codemirror_mode": {
    "name": "ipython",
    "version": 3
   },
   "file_extension": ".py",
   "mimetype": "text/x-python",
   "name": "python",
   "nbconvert_exporter": "python",
   "pygments_lexer": "ipython3",
   "version": "3.13.5"
  }
 },
 "nbformat": 4,
 "nbformat_minor": 5
}
